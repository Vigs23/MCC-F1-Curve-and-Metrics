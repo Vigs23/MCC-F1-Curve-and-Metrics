{
 "cells": [
  {
   "cell_type": "markdown",
   "metadata": {},
   "source": [
    "# MCC-F1 Curve and Metrics\n",
    "\n",
    "Based on the paper - The MCC-F1 curve: a performance evaluation technique for binary classification (Cao, Chicco, & Hoffman, 2020), wherein the authors combine two single-threshold metrics i.e. Matthews correlation coefficient (MCC) and the 𝐹1 score.\n",
    "into a MCC-F1 curve and also compute a metric that integrates the MCC-F1 curve inorder to compare classifier performance across varying thresholds.\n",
    "\n",
    "The below code computes the MCC-F1 curve and its relevant metrics.\n",
    "* Based on 2 input values - Ground truths and Predicted values (given by a binary classifer);\n",
    "* The MCC-F1 function calculates the MCC and F1 scores across varying thresholds.\n",
    "* The MCC-F1 metric provides a measure to compare classifers, and provides the the best threshold 𝑇 the point on the MCC-𝐹1 curve closest to the point of perfect performance (1,1)\n",
    "* Plotting the MCC-F1 curve.\n",
    "\n",
    "***"
   ]
  },
  {
   "cell_type": "markdown",
   "metadata": {},
   "source": [
    "# Import Necessary Python Packages"
   ]
  },
  {
   "cell_type": "code",
   "execution_count": 1,
   "metadata": {},
   "outputs": [],
   "source": [
    "from sklearn import metrics\n",
    "import numpy as np\n",
    "import matplotlib.pyplot as plt\n",
    "import warnings\n",
    "warnings.filterwarnings(\"ignore\")"
   ]
  },
  {
   "cell_type": "markdown",
   "metadata": {},
   "source": [
    "# The MCC-F1 function:\n",
    "Based on the inputs of ground truths and predicted values; we can calculate Matthews correlation coefficient (MCC) and the 𝐹1 scores which are scoring classifiers. \n",
    "This results in a real-valued prediction score 𝑓(𝑥𝑖) for each element, and then assigning positive predictions (𝑦𝑖̂ = 1) when the score exceeds some threshold 𝜏, or negative predictions (𝑦𝑖̂ = 0)."
   ]
  },
  {
   "cell_type": "code",
   "execution_count": 2,
   "metadata": {},
   "outputs": [],
   "source": [
    "def mcc_f1(ground_truths, predticted_values):\n",
    "    \n",
    "    mcc = []   \n",
    "    f1 = []\n",
    "    \n",
    "# Generating thresholds with the PRC function\n",
    "    precision, recall, thresholds = metrics.precision_recall_curve(\n",
    "                                    ground_truths, predticted_values)\n",
    "\n",
    "# For every value of the thresholds (cutoffs), calculate MCC and F1 scores :\n",
    "    for thresh in thresholds:\n",
    "        y_pred_thresh = predticted_values > thresh\n",
    "    \n",
    "        mcc.append((metrics.matthews_corrcoef(\n",
    "                    ground_truths, y_pred_thresh)+1)*0.5) # get normalised MCC: change the range of MCC from [-1, 1] to [0, 1] \n",
    "        \n",
    "        f1.append(metrics.f1_score(\n",
    "                    ground_truths, y_pred_thresh))\n",
    "        \n",
    "    mcc = np.array(mcc)\n",
    "    f1 = np.array(f1)  \n",
    "    \n",
    "    return mcc,f1, thresholds\n",
    "# Resulting values are an array of MCC & F1 scores across different thresholds (cutoffs)"
   ]
  },
  {
   "cell_type": "markdown",
   "metadata": {},
   "source": [
    "# The MCC-F1 metric:"
   ]
  },
  {
   "cell_type": "markdown",
   "metadata": {},
   "source": [
    "Based on the MCC-F1 scores calulated we can compute the MCC-F1 Metric based on the following steps:\n",
    "* Divide the normalized MCC in the curve [min𝑖 𝑋𝑖, max𝑖 𝑋𝑖] into 𝑊 = 100 sub-ranges, each of width 𝑤 = (max𝑖 𝑋𝑖 − min𝑖 𝑋𝑖)/𝑊.\n",
    "* calculate the mean Euclidean distance between points with MCC in each sub-range to the point of perfect performance (1,1).\n",
    "* Calculate grand average i.e. averaged the mean distances amongst subranges.\n",
    "* Better classifiers have MCC-𝐹1 curves closer to the point of perfect performance (1,1), and have a larger MCC-𝐹1 metric."
   ]
  },
  {
   "cell_type": "code",
   "execution_count": 3,
   "metadata": {},
   "outputs": [],
   "source": [
    "def MCC_F1_Metric(mcc,f1):\n",
    "    W = 100 # number of subranges; larger values of 𝑊 will cause the MCC-𝐹1 metric to capture the performance of a classifier more accurately.\n",
    "    mcc_intervals = np.linspace(np.min(mcc), np.max(mcc),W) # breaking into subranges\n",
    "    \n",
    "    # Computing MCC values per subrange\n",
    "    \n",
    "    n = np.zeros_like(mcc_intervals) # 'n' is the number of points per subrange\n",
    "    for i in range(W-1):\n",
    "        for j in mcc:\n",
    "            if j >= mcc_intervals[i] and j < mcc_intervals[i+1]:\n",
    "                n[i] = n[i] + 1\n",
    "\n",
    "    # Calculating the distances between points in asubrange to the Point of perfect performance (1,1)            \n",
    "    Di = np.zeros_like(mcc)\n",
    "    Di = np.sqrt(((mcc-1)**2)+((f1-1)**2)) # calculating the Euclidean distance 𝐷𝑖            \n",
    "    sum = np.zeros_like(mcc_intervals)\n",
    "    index = -1\n",
    "    for value in mcc:\n",
    "        index += 1\n",
    "        for i in range(W-1):\n",
    "                 if value >= mcc_intervals[i] and value < mcc_intervals[i+1]:\n",
    "                        sum[i] = sum[i] + Di[index]\n",
    "\n",
    "# Mean Distance across subranges\n",
    "    mean_Di = np.array(sum/n)\n",
    "    P = 0  \n",
    "    mean_Di_sum = 0\n",
    "    for i in mean_Di:\n",
    "        if not np.isnan(i):\n",
    "            P += 1 \n",
    "            mean_Di_sum += i # addition of all the means across subranges that have atleast 1 MCC value.\n",
    "\n",
    "    grand_avg = mean_Di_sum/P # P = total number of subranges that have atleast 1 MCC value\n",
    "   \n",
    "    \"\"\" \n",
    "    Compare the grand average distance to √2 (The distance between the point of worst performance (0,0) and \n",
    "    the point of perfect performance (1,1) is √2).That is the maximum possible distance between a point on the MCC-𝐹1 curve\n",
    "    The ratio between the grand avgerage distance and √2 is taken.\n",
    "    This ratio ranges between 0 and 1 (worst value = 0; best value = 1). To get the MCC-𝐹1 score, we subtract this ratio from 1\n",
    "    \"\"\"\n",
    "\n",
    "    MCC_F1_Met = 1 - (grand_avg /np.sqrt(2))\n",
    "  \n",
    "    \"\"\"\"\"\n",
    "    Finding the best threshold 𝑇 the point on the MCC-𝐹1 curve closest to the point of perfect performance (1,1).\n",
    "    This threshold maximizes the overall advantage in MCC and 𝐹1 score\n",
    "    \"\"\"\"\"\n",
    "\n",
    "    result = np.where(Di == Di.min())\n",
    "    T_index = result[0][0]\n",
    "    \n",
    "    print(\"MCC-F1 metric = {0:.2f}\".format(MCC_F1_Met), \"Best Threshold = {0:.2f}\".format(thresholds[T_index]))\n",
    "    \n",
    "    return MCC_F1_Met,T_index"
   ]
  },
  {
   "cell_type": "markdown",
   "metadata": {},
   "source": [
    "# Example"
   ]
  },
  {
   "cell_type": "code",
   "execution_count": 4,
   "metadata": {},
   "outputs": [],
   "source": [
    "# Populating ground truth values\n",
    "\n",
    "x = np.array([1,0])\n",
    "ground_truths = np.repeat(x,[1000,10000])\n",
    "\n",
    "\"\"\"\n",
    "Populating Predcition values (based on a beta distribution, this bimodal piecewise \n",
    "distribution simulates a classifier with large recall when the threshold nears 1\n",
    "and small recall when the threshold nears 0).\n",
    "\"\"\"\n",
    "\n",
    "b1 = np.random.beta(12,2,300)\n",
    "b2 = np.random.beta(3,4,700)\n",
    "b3 = np.random.beta(2,3,10000)\n",
    "predticted_values = np.concatenate([b1,b2,b3])\n"
   ]
  },
  {
   "cell_type": "markdown",
   "metadata": {},
   "source": [
    "# Calling the 2 functions:"
   ]
  },
  {
   "cell_type": "code",
   "execution_count": 5,
   "metadata": {},
   "outputs": [
    {
     "name": "stdout",
     "output_type": "stream",
     "text": [
      "MCC-F1 metric = 0.39 Best Threshold = 0.77\n"
     ]
    }
   ],
   "source": [
    "mcc,f1,thresholds = mcc_f1(ground_truths,predticted_values)\n",
    "MCC_F1_Met,T_index = MCC_F1_Metric(mcc,f1)\n"
   ]
  },
  {
   "cell_type": "markdown",
   "metadata": {},
   "source": [
    "# Ploting the MCC-F1 curve:"
   ]
  },
  {
   "cell_type": "code",
   "execution_count": 6,
   "metadata": {},
   "outputs": [
    {
     "data": {
      "image/png": "[encoded data removed]",
      "text/plain": [
       "<Figure size 432x288 with 1 Axes>"
      ]
     },
     "metadata": {
      "needs_background": "light"
     },
     "output_type": "display_data"
    }
   ],
   "source": [
    "# Generating a plot;\n",
    "fig = plt.figure()\n",
    "ax = fig.add_subplot(111)\n",
    "\n",
    "# Labelling the plot;\n",
    "ax.plot(f1,mcc)\n",
    "ax.set(xlabel='F1 score', \n",
    "       ylabel='unit−normalized MCC',\n",
    "       title='MCC-F1 curve')\n",
    "\n",
    "# Inserting Random line\n",
    "ax.axhline(0.5,linewidth=0.7, color='green',linestyle='--')\n",
    "ax.annotate('Random line',xy =(0,0.5),xytext=(250,-15),\n",
    "            color='g', xycoords = ax.get_yaxis_transform(), \n",
    "            textcoords=\"offset points\", va=\"bottom\")\n",
    "\n",
    "# Labelling MCC-F1 metric results\n",
    "ax.annotate(\"MCC-F1 metric @ the best threshold = {0:.2f} @ {1:.2f}\".format(\n",
    "            MCC_F1_Met, thresholds[T_index]), \n",
    "                 (f1[T_index],mcc[T_index]), \n",
    "                 textcoords=\"offset points\", \n",
    "                 xytext=(0,10),\n",
    "                 ha='left') \n",
    "\n",
    "# Displaying and labelling points of performances.\n",
    "ax.scatter(f1[T_index],mcc[T_index],color='red')\n",
    "ax.scatter(1,1,color = 'black');ax.scatter(0,0,color = 'black')\n",
    "ax.annotate('Point of Perfect performance',(1,1),\n",
    "            textcoords=\"offset points\",xytext=(-9,-2),ha='right')\n",
    "ax.annotate('Point of Worst performance',(0,0)\n",
    "            ,textcoords=\"offset points\",xytext=(9,2),ha='left')\n",
    "\n",
    "# Displaying the plot\n",
    "plt.xlim(-0.05,1.05); plt.ylim(-0.05,1.05)\n",
    "plt.grid(alpha = 0.3)\n",
    "plt.show()"
   ]
  },
  {
   "cell_type": "markdown",
   "metadata": {},
   "source": [
    "***"
   ]
  }
 ],
 "metadata": {
  "kernelspec": {
   "display_name": "Python 3",
   "language": "python",
   "name": "python3"
  },
  "language_info": {
   "codemirror_mode": {
    "name": "ipython",
    "version": 3
   },
   "file_extension": ".py",
   "mimetype": "text/x-python",
   "name": "python",
   "nbconvert_exporter": "python",
   "pygments_lexer": "ipython3",
   "version": "3.7.5"
  }
 },
 "nbformat": 4,
 "nbformat_minor": 4
}
